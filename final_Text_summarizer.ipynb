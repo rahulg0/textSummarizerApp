{
 "cells": [
  {
   "cell_type": "code",
   "execution_count": 1,
   "id": "4053bd47",
   "metadata": {},
   "outputs": [
    {
     "name": "stdout",
     "output_type": "stream",
     "text": [
      "\n",
      "Summarized Text (in English):\n",
      "sdflknbvksnvk;jvb bjvijbjl vk;fbvibv sbvb eiuv jbvij v\n",
      "\n",
      "Summarized Text (in Hindi):\n",
      "sdflknbvksnvk;jvb bjvijbjl vk;fbvibv sbvb eiuv jbvij v\n"
     ]
    }
   ],
   "source": [
    "from sumy.parsers.plaintext import PlaintextParser\n",
    "from sumy.nlp.tokenizers import Tokenizer\n",
    "from sumy.summarizers.lsa import LsaSummarizer\n",
    "from sumy.nlp.stemmers import Stemmer\n",
    "from sumy.utils import get_stop_words\n",
    "from mtranslate import translate\n",
    "\n",
    "def text_summarizer(text, language, sentences_count=3):\n",
    "    try:\n",
    "        parser = PlaintextParser.from_string(text, Tokenizer(language))\n",
    "        stemmer = Stemmer(language)\n",
    "        summarizer = LsaSummarizer(stemmer)\n",
    "        summarizer.stop_words = get_stop_words(language)\n",
    "\n",
    "        summary = []\n",
    "        for sentence in summarizer(parser.document, sentences_count):\n",
    "            summary.append(str(sentence))\n",
    "\n",
    "        return ' '.join(summary)\n",
    "    except Exception as e:\n",
    "        return str(e)\n",
    "\n",
    "def translate_text(text, source_language, target_language):\n",
    "    translated_text = translate(text, target_language)\n",
    "    return translated_text\n",
    "\n",
    "if __name__ == \"__main__\":\n",
    "    user_input = input(\"Enter the text you want to summarize in Hindi: \")\n",
    "    source_language = \"hi\"  # Hindi\n",
    "    target_language = \"en\"  # English\n",
    "\n",
    "    # Translate input from Hindi to English\n",
    "    translated_input = translate_text(user_input, source_language, target_language)\n",
    "\n",
    "    # Perform summarization on the translated text in English\n",
    "    language = target_language\n",
    "    summary_english = text_summarizer(translated_input, language)\n",
    "\n",
    "    # Translate the summary back to Hindi\n",
    "    translated_summary = translate_text(summary_english, target_language, source_language)\n",
    "\n",
    "    if summary_english and translated_summary:\n",
    "        print(\"\\nSummarized Text (in English):\")\n",
    "        print(summary_english)\n",
    "        print(\"\\nSummarized Text (in Hindi):\")\n",
    "        print(translated_summary)\n",
    "    else:\n",
    "        print(\"Sorry, I couldn't summarize the text. Please try again with different input.\")\n"
   ]
  },
  {
   "cell_type": "code",
   "execution_count": null,
   "id": "831454b0",
   "metadata": {},
   "outputs": [],
   "source": []
  }
 ],
 "metadata": {
  "kernelspec": {
   "display_name": "Python 3 (ipykernel)",
   "language": "python",
   "name": "python3"
  },
  "language_info": {
   "codemirror_mode": {
    "name": "ipython",
    "version": 3
   },
   "file_extension": ".py",
   "mimetype": "text/x-python",
   "name": "python",
   "nbconvert_exporter": "python",
   "pygments_lexer": "ipython3",
   "version": "3.9.13"
  }
 },
 "nbformat": 4,
 "nbformat_minor": 5
}
